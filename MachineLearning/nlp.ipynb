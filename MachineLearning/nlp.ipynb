{
 "cells": [
  {
   "cell_type": "code",
   "execution_count": 94,
   "metadata": {},
   "outputs": [],
   "source": [
    "import numpy as np\n",
    "import pandas as pd\n",
    "import matplotlib.pyplot as plt\n",
    "import re\n",
    "import nltk\n",
    "from nltk.stem.porter import PorterStemmer\n",
    "from nltk.corpus import stopwords\n",
    "from sklearn.feature_extraction.text import CountVectorizer\n",
    "from sklearn.model_selection import train_test_split\n",
    "from sklearn.naive_bayes import GaussianNB\n",
    "from sklearn.metrics import confusion_matrix, accuracy_score"
   ]
  },
  {
   "cell_type": "code",
   "execution_count": 34,
   "metadata": {},
   "outputs": [],
   "source": [
    "Review = []\n",
    "Liked = []\n",
    "with open(\"Datasets/Restaurant_Reviews.csv\", \"r\", encoding='utf-8') as file:\n",
    "    for line in file:\n",
    "        parts = line.rsplit('.', 1)\n",
    "        if len(parts) == 2:\n",
    "            review = parts[0].strip()  # Yorumu temizle\n",
    "            sentiment = parts[1].strip()  # Kategoriyi temizle\n",
    "            Review.append(review)\n",
    "            Liked.append(sentiment)\n",
    "Liked = [int(''.join([char for char in s if char.isdigit()])) for s in Liked]# DataFrame oluştur\n",
    "data = pd.DataFrame({'Review': Review, 'Liked': Liked})"
   ]
  },
  {
   "cell_type": "code",
   "execution_count": 55,
   "metadata": {},
   "outputs": [
    {
     "name": "stderr",
     "output_type": "stream",
     "text": [
      "[nltk_data] Downloading package stopwords to\n",
      "[nltk_data]     C:\\Users\\Furkan\\AppData\\Roaming\\nltk_data...\n",
      "[nltk_data]   Package stopwords is already up-to-date!\n"
     ]
    },
    {
     "data": {
      "text/plain": [
       "True"
      ]
     },
     "execution_count": 55,
     "metadata": {},
     "output_type": "execute_result"
    }
   ],
   "source": [
    "nltk.download(\"stopwords\")"
   ]
  },
  {
   "cell_type": "code",
   "execution_count": 54,
   "metadata": {},
   "outputs": [],
   "source": [
    "ps = PorterStemmer()"
   ]
  },
  {
   "cell_type": "code",
   "execution_count": 59,
   "metadata": {},
   "outputs": [],
   "source": [
    "#preprocessig\n",
    "comments = []\n",
    "for i in range(len(data)):    \n",
    "    comment = re.sub(\"[^a-zA-Z]\",\" \",data[\"Review\"][i])\n",
    "    comment = comment.lower()\n",
    "    comment = comment.split()\n",
    "    comment = [ps.stem(word) for word in comment if not word in set(stopwords.words(\"english\"))]\n",
    "    comment = \" \".join(comment)\n",
    "    comments.append(comment)"
   ]
  },
  {
   "cell_type": "code",
   "execution_count": 79,
   "metadata": {},
   "outputs": [],
   "source": [
    "#Feature Extraction\n",
    "#BOW --> Bag of Words\n",
    "cv = CountVectorizer(max_features=2000)\n",
    "x= cv.fit_transform(comments).toarray()\n",
    "y = data[\"Liked\"].values\n"
   ]
  },
  {
   "cell_type": "code",
   "execution_count": 83,
   "metadata": {},
   "outputs": [],
   "source": [
    "xTrain,xtest,yTrain,yTest = train_test_split(x,y,test_size=0.20)"
   ]
  },
  {
   "cell_type": "code",
   "execution_count": 96,
   "metadata": {},
   "outputs": [
    {
     "name": "stdout",
     "output_type": "stream",
     "text": [
      "[[46 39]\n",
      " [18 64]]\n"
     ]
    },
    {
     "data": {
      "text/plain": [
       "0.6586826347305389"
      ]
     },
     "execution_count": 96,
     "metadata": {},
     "output_type": "execute_result"
    }
   ],
   "source": [
    "gnb = GaussianNB()\n",
    "gnb.fit(xTrain,yTrain)\n",
    "tahmin = gnb.predict(xtest)\n",
    "print(confusion_matrix(yTest,tahmin))\n",
    "accuracy_score(yTest,tahmin)"
   ]
  },
  {
   "cell_type": "code",
   "execution_count": 95,
   "metadata": {},
   "outputs": [
    {
     "name": "stdout",
     "output_type": "stream",
     "text": [
      "[[69 16]\n",
      " [21 61]]\n"
     ]
    },
    {
     "data": {
      "text/plain": [
       "0.7784431137724551"
      ]
     },
     "execution_count": 95,
     "metadata": {},
     "output_type": "execute_result"
    }
   ],
   "source": [
    "from sklearn.linear_model import LogisticRegression\n",
    "logr = LogisticRegression(random_state=0)\n",
    "logr.fit(xTrain,yTrain)\n",
    "y_pred = logr.predict(xtest)\n",
    "print(confusion_matrix(yTest,y_pred))\n",
    "accuracy_score(yTest,y_pred)"
   ]
  },
  {
   "cell_type": "code",
   "execution_count": 97,
   "metadata": {},
   "outputs": [
    {
     "name": "stdout",
     "output_type": "stream",
     "text": [
      "[[77  8]\n",
      " [48 34]]\n"
     ]
    },
    {
     "data": {
      "text/plain": [
       "0.6646706586826348"
      ]
     },
     "execution_count": 97,
     "metadata": {},
     "output_type": "execute_result"
    }
   ],
   "source": [
    "from sklearn.neighbors import KNeighborsClassifier\n",
    "knn = KNeighborsClassifier(n_neighbors=7, metric='nan_euclidean')\n",
    "knn.fit(xTrain,yTrain)\n",
    "y_pred = knn.predict(xtest)\n",
    "print(confusion_matrix(yTest,y_pred))\n",
    "accuracy_score(yTest,y_pred)"
   ]
  },
  {
   "cell_type": "code",
   "execution_count": 98,
   "metadata": {},
   "outputs": [
    {
     "name": "stdout",
     "output_type": "stream",
     "text": [
      "[[78  7]\n",
      " [36 46]]\n"
     ]
    },
    {
     "data": {
      "text/plain": [
       "0.7425149700598802"
      ]
     },
     "execution_count": 98,
     "metadata": {},
     "output_type": "execute_result"
    }
   ],
   "source": [
    "from sklearn.svm import SVC\n",
    "svc = SVC(kernel='rbf')\n",
    "svc.fit(xTrain,yTrain)\n",
    "y_pred = svc.predict(xtest)\n",
    "print(confusion_matrix(yTest,y_pred))\n",
    "accuracy_score(yTest,y_pred)"
   ]
  },
  {
   "cell_type": "code",
   "execution_count": 99,
   "metadata": {},
   "outputs": [
    {
     "name": "stdout",
     "output_type": "stream",
     "text": [
      "[[75 10]\n",
      " [29 53]]\n"
     ]
    },
    {
     "data": {
      "text/plain": [
       "0.7664670658682635"
      ]
     },
     "execution_count": 99,
     "metadata": {},
     "output_type": "execute_result"
    }
   ],
   "source": [
    "from sklearn.tree import DecisionTreeClassifier\n",
    "dtc = DecisionTreeClassifier(criterion = 'entropy')\n",
    "dtc.fit(xTrain,yTrain)\n",
    "y_pred = dtc.predict(xtest)\n",
    "print(confusion_matrix(yTest,y_pred))\n",
    "accuracy_score(yTest,y_pred)"
   ]
  },
  {
   "cell_type": "code",
   "execution_count": 100,
   "metadata": {},
   "outputs": [
    {
     "name": "stdout",
     "output_type": "stream",
     "text": [
      "[[78  7]\n",
      " [36 46]]\n"
     ]
    },
    {
     "data": {
      "text/plain": [
       "0.7425149700598802"
      ]
     },
     "execution_count": 100,
     "metadata": {},
     "output_type": "execute_result"
    }
   ],
   "source": [
    "from sklearn.ensemble import RandomForestClassifier\n",
    "rfc = RandomForestClassifier(n_estimators=10, criterion = 'gini')\n",
    "rfc.fit(xTrain,yTrain)\n",
    "y_pred = rfc.predict(xtest)\n",
    "print(confusion_matrix(yTest,y_pred))\n",
    "accuracy_score(yTest,y_pred)"
   ]
  }
 ],
 "metadata": {
  "kernelspec": {
   "display_name": "Python 3",
   "language": "python",
   "name": "python3"
  },
  "language_info": {
   "codemirror_mode": {
    "name": "ipython",
    "version": 3
   },
   "file_extension": ".py",
   "mimetype": "text/x-python",
   "name": "python",
   "nbconvert_exporter": "python",
   "pygments_lexer": "ipython3",
   "version": "3.12.4"
  }
 },
 "nbformat": 4,
 "nbformat_minor": 2
}
